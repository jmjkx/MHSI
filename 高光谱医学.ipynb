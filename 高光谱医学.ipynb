{
 "cells": [
  {
   "cell_type": "code",
   "execution_count": 151,
   "metadata": {},
   "outputs": [],
   "source": [
    "# -*- coding: utf-8 -*-\n",
    "\"\"\"\n",
    "Created on Wed May 15 17:17:30 2019\n",
    "\n",
    "@author: viryl\n",
    "\"\"\"\n",
    "\n",
    "\n",
    "from ipdb import set_trace\n",
    "\n",
    "import os\n",
    "#os.chdir(' ')   #设置当前路径\n",
    "import scipy.io   \n",
    "import scipy.ndimage\n",
    "import numpy as np\n",
    "from random import shuffle   #随机排序\n",
    "from Utils import pca, pad, standartize, patch\n",
    "\n",
    "\n",
    "# 定义全局变量\n",
    "#PATCH_SIZE = 5  # 切片尺寸\n",
    "#PATCH_SIZE = 7 # 切片尺寸\n",
    "#PATCH_SIZE = 9 # 切片尺寸\n",
    "#PATCH_SIZE = 11# 切片尺寸\n",
    "#PATCH_SIZE = 13# 切片尺寸\n",
    "#PATCH_SIZE = 15# 切片尺寸\n",
    "#PATCH_SIZE = 17# 切片尺寸\n",
    "PATCH_SIZE = 19# 切片尺寸\n",
    "# PATCH_SIZE = 21# 切片尺寸\n",
    "OUTPUT_CLASSES = 3  # 输出9类地物   #已改   ，OUTPUT_CLASSES = 9\n",
    "TEST_FRAC = 0.50  # 用来测试数据的百分比\n",
    "\n",
    "NEW_DATA_PATH = os.path.join('/home/liyuan/dataset/HSI/高光谱医学数据/00microscope medical image data/medical sample 1-3/', \"patch\")  # 存放数据路径 patch是文件夹名称\n"
   ]
  },
  {
   "cell_type": "code",
   "execution_count": 152,
   "metadata": {},
   "outputs": [],
   "source": [
    "\n",
    "\n",
    "# 加载数据\n",
    "def loadData(fileName):\n",
    "    # 原始数据路径\n",
    "    data = scipy.io.loadmat(fileName)\n",
    "    \n",
    "    image = data['image']   #已改data = data[list(data.keys())[-1]] \n",
    "    label = data['map']\n",
    "    \n",
    "    image = np.transpose(image, (2, 0, 1))  # 将通道数提前，便于数组处理操作\n",
    "    return image, label\n",
    "\n",
    "\n",
    "# 生成切片数据并存储\n",
    "def createdData(X, label):\n",
    "    PATCH, LABEL = [], []\n",
    "    for c in range(OUTPUT_CLASSES):\n",
    "      \n",
    "        for h in range(X.shape[1]-PATCH_SIZE+1):\n",
    "            for w in range(X.shape[2]-PATCH_SIZE+1):\n",
    "                \n",
    "                gt = label[h, w]\n",
    "                if(gt == c):\n",
    "                    \n",
    "                    img = patch(X, PATCH_SIZE, h, w)\n",
    "                    PATCH.append(img)\n",
    "                    LABEL.append(gt)\n",
    "        \n",
    "    return PATCH, LABEL\n",
    "        \n",
    "        \n",
    "\n",
    "\n"
   ]
  },
  {
   "cell_type": "code",
   "execution_count": 153,
   "metadata": {},
   "outputs": [],
   "source": [
    "#data, label = loadData(\"PaviaU\", \"PaviaU.mat\", \"PaviaU_gt.mat\")\n",
    "#basePath = '/home/liyuan/dataset/HSI/高光谱医学数据/00microscope medical image data/'\n",
    "basePath='/home/liyuan/dataset/HSI/高光谱医学数据/00microscope medical image data/medical sample 1-3/bloodcell1-3.mat'\n",
    "data, label = loadData(basePath )\n",
    "#data=data[:,100:580,100:480]   # 新加，取100*100个像素点\n",
    "#label=label[100:580,100:480]   #新加\n"
   ]
  },
  {
   "cell_type": "code",
   "execution_count": 154,
   "metadata": {},
   "outputs": [],
   "source": [
    "data = standartize(data)\n",
    "data = pad(data, int((PATCH_SIZE-1)/2))\n",
    "   #储存数据\n",
    "PATCH, LABEL = createdData(data, label)\n",
    "#    set_trace()\n",
    "#         # 打乱切片\n",
    "#         shuffle(PATCH)\n",
    "#         # 划分测试集与训练集\n",
    "#         split_size = int(len(PATCH)*TEST_FRAC)\n",
    "#         TEST_PATCH.extend(PATCH[:split_size])  # 0 ~ split_size\n",
    "#         TRAIN_PATCH.extend(PATCH[split_size:])  # split_size ~ len(class)\n",
    "#         TEST_LABEL.extend(LABEL[:split_size])\n",
    "#         TRAIN_LABEL.extend(LABEL[split_size:])"
   ]
  },
  {
   "cell_type": "code",
   "execution_count": 155,
   "metadata": {},
   "outputs": [],
   "source": [
    "patch = np.array(PATCH)\n",
    "label = np.array(LABEL)"
   ]
  },
  {
   "cell_type": "code",
   "execution_count": 156,
   "metadata": {},
   "outputs": [],
   "source": [
    "patchsize_path = os.path.join(NEW_DATA_PATH, str(PATCH_SIZE))\n",
    "if not os.path.exists(patchsize_path):\n",
    "    os.makedirs(patchsize_path)\n",
    "np.save(os.path.join(patchsize_path, 'GND.npy'), label)"
   ]
  },
  {
   "cell_type": "code",
   "execution_count": 157,
   "metadata": {},
   "outputs": [],
   "source": [
    "patchsize_path = os.path.join(NEW_DATA_PATH, str(PATCH_SIZE))\n",
    "if not os.path.exists(patchsize_path):\n",
    "    os.makedirs(patchsize_path)\n",
    "np.save(os.path.join(patchsize_path, 'PATCH.npy'), patch)"
   ]
  },
  {
   "cell_type": "code",
   "execution_count": null,
   "metadata": {},
   "outputs": [],
   "source": []
  },
  {
   "cell_type": "code",
   "execution_count": null,
   "metadata": {},
   "outputs": [],
   "source": []
  }
 ],
 "metadata": {
  "kernelspec": {
   "display_name": "Python 3",
   "language": "python",
   "name": "python3"
  },
  "language_info": {
   "codemirror_mode": {
    "name": "ipython",
    "version": 3
   },
   "file_extension": ".py",
   "mimetype": "text/x-python",
   "name": "python",
   "nbconvert_exporter": "python",
   "pygments_lexer": "ipython3",
   "version": "3.7.4"
  }
 },
 "nbformat": 4,
 "nbformat_minor": 2
}
